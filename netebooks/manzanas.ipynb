{
 "cells": [
  {
   "cell_type": "markdown",
   "id": "cc014d0c",
   "metadata": {},
   "source": [
    "### Carga y exploraci´on inicial\n",
    "- Carga el archivo CSV en un DataFrame.\n",
    "- Usa head(), info() y describe() para conocer el contenido."
   ]
  },
  {
   "cell_type": "code",
   "execution_count": null,
   "id": "50bfb81c",
   "metadata": {
    "vscode": {
     "languageId": "plaintext"
    }
   },
   "outputs": [],
   "source": []
  }
 ],
 "metadata": {
  "language_info": {
   "name": "python"
  }
 },
 "nbformat": 4,
 "nbformat_minor": 5
}
